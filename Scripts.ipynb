{
 "cells": [
  {
   "cell_type": "code",
   "execution_count": 3,
   "metadata": {},
   "outputs": [
    {
     "name": "stdout",
     "output_type": "stream",
     "text": [
      "[master 35b0d60] Update\r\n",
      " 1 file changed, 0 insertions(+), 0 deletions(-)\r\n",
      " rename Untitled.ipynb => Scripts.ipynb (100%)\r\n"
     ]
    }
   ],
   "source": [
    "!git config user.email \"shibaji7@vt.edu\"\n",
    "!git config user.name \"Shibaji Chakraborty\""
   ]
  },
  {
   "cell_type": "code",
   "execution_count": 2,
   "metadata": {},
   "outputs": [
    {
     "name": "stdout",
     "output_type": "stream",
     "text": [
      "[master 57b1291] Updated Radar and date list\n",
      " 2 files changed, 10 insertions(+), 10 deletions(-)\n",
      "Enumerating objects: 9, done.\n",
      "Counting objects: 100% (9/9), done.\n",
      "Delta compression using up to 24 threads\n",
      "Compressing objects: 100% (5/5), done.\n",
      "Writing objects: 100% (5/5), 605 bytes | 605.00 KiB/s, done.\n",
      "Total 5 (delta 4), reused 0 (delta 0)\n",
      "remote: Resolving deltas: 100% (4/4), completed with 4 local objects.\u001b[K\n",
      "To https://github.com/shibaji7/SuperDARN-Clustering.git\n",
      "   fee6da7..57b1291  master -> master\n"
     ]
    }
   ],
   "source": [
    "# Push to git \n",
    "!git add .\n",
    "!git commit -m \"Updated Radar and date list\"\n",
    "!git push"
   ]
  },
  {
   "cell_type": "code",
   "execution_count": 1,
   "metadata": {},
   "outputs": [
    {
     "name": "stdout",
     "output_type": "stream",
     "text": [
      "remote: Enumerating objects: 4, done.\u001b[K\n",
      "remote: Counting objects: 100% (4/4), done.\u001b[K\n",
      "remote: Compressing objects: 100% (2/2), done.\u001b[K\n",
      "remote: Total 3 (delta 1), reused 3 (delta 1), pack-reused 0\u001b[K\n",
      "Unpacking objects: 100% (3/3), 1.63 KiB | 1.63 MiB/s, done.\n",
      "From https://github.com/shibaji7/SuperDARN-Clustering\n",
      "   9b59b82..fee6da7  master     -> origin/master\n",
      "Updating 9b59b82..fee6da7\n",
      "Fast-forward\n",
      " environment.yml | 109 \u001b[32m++++++++++++++++++++++++++++++++++++++++++++++++++++++++\u001b[m\n",
      " 1 file changed, 109 insertions(+)\n",
      " create mode 100644 environment.yml\n"
     ]
    }
   ],
   "source": [
    "# Git pull\n",
    "!git pull"
   ]
  },
  {
   "cell_type": "code",
   "execution_count": 2,
   "metadata": {},
   "outputs": [
    {
     "name": "stdout",
     "output_type": "stream",
     "text": [
      "/home/jupyter-shibaji_chakrobart-968f7/Clustering/SuperDARN-Clustering\r\n"
     ]
    }
   ],
   "source": [
    "!pwd"
   ]
  },
  {
   "cell_type": "code",
   "execution_count": 3,
   "metadata": {},
   "outputs": [
    {
     "name": "stdout",
     "output_type": "stream",
     "text": [
      "Collecting package metadata (repodata.json): done\n",
      "Solving environment: failed\n",
      "\n",
      "ResolvePackageNotFound: \n",
      "  - sysroot_linux-64==2.12=h3a0023d_3\n",
      "  - gcc_impl_linux-64==7.5.0=hd420e75_6\n",
      "  - gfortran_impl_linux-64==7.5.0=hdf63c60_6\n",
      "  - ld_impl_linux-64==2.34=h53a641e_2\n",
      "  - binutils_impl_linux-64==2.34=h53a641e_2\n",
      "  - gxx_impl_linux-64==7.5.0=hdf63c60_6\n",
      "  - libgfortran-ng==7.5.0=hdf63c60_6\n",
      "\n"
     ]
    }
   ],
   "source": [
    "!conda env create -f environment.yml"
   ]
  },
  {
   "cell_type": "code",
   "execution_count": 2,
   "metadata": {},
   "outputs": [],
   "source": [
    "# Clear all files\n",
    "!rm -rf .ipynb_checkpoints/\n",
    "!rm -rf sd/__pycache__/\n",
    "!rm -rf sd/.ipynb_checkpoints/\n",
    "!rm -rf sd/skillset/__pycache__/\n",
    "!rm -rf sd/__pycache__/\n",
    "!rm -rf sd/algorithms/extra/__pycache__/"
   ]
  },
  {
   "cell_type": "code",
   "execution_count": null,
   "metadata": {},
   "outputs": [],
   "source": []
  }
 ],
 "metadata": {
  "kernelspec": {
   "display_name": "Python 3",
   "language": "python",
   "name": "python3"
  },
  "language_info": {
   "codemirror_mode": {
    "name": "ipython",
    "version": 3
   },
   "file_extension": ".py",
   "mimetype": "text/x-python",
   "name": "python",
   "nbconvert_exporter": "python",
   "pygments_lexer": "ipython3",
   "version": "3.7.7"
  }
 },
 "nbformat": 4,
 "nbformat_minor": 4
}
