{
 "cells": [
  {
   "cell_type": "code",
   "execution_count": 3,
   "metadata": {},
   "outputs": [
    {
     "name": "stdout",
     "output_type": "stream",
     "text": [
      "[master 35b0d60] Update\r\n",
      " 1 file changed, 0 insertions(+), 0 deletions(-)\r\n",
      " rename Untitled.ipynb => Scripts.ipynb (100%)\r\n"
     ]
    }
   ],
   "source": [
    "!git config user.email \"shibaji7@vt.edu\"\n",
    "!git config user.name \"Shibaji Chakraborty\""
   ]
  },
  {
   "cell_type": "code",
   "execution_count": 5,
   "metadata": {},
   "outputs": [
    {
     "name": "stdout",
     "output_type": "stream",
     "text": [
      "[master d60a306] Updated Radar and date list\n",
      " 4 files changed, 77 insertions(+), 26 deletions(-)\n",
      "Enumerating objects: 13, done.\n",
      "Counting objects: 100% (13/13), done.\n",
      "Delta compression using up to 24 threads\n",
      "Compressing objects: 100% (7/7), done.\n",
      "Writing objects: 100% (7/7), 1.39 KiB | 713.00 KiB/s, done.\n",
      "Total 7 (delta 5), reused 0 (delta 0)\n",
      "remote: Resolving deltas: 100% (5/5), completed with 5 local objects.\u001b[K\n",
      "To https://github.com/shibaji7/SuperDARN-Clustering.git\n",
      "   57b1291..d60a306  master -> master\n"
     ]
    }
   ],
   "source": [
    "# Push to git \n",
    "!git add .\n",
    "!git commit -m \"Updated Radar and date list\"\n",
    "!git push"
   ]
  },
  {
   "cell_type": "code",
   "execution_count": 4,
   "metadata": {},
   "outputs": [
    {
     "name": "stdout",
     "output_type": "stream",
     "text": [
      "Already up to date.\r\n"
     ]
    }
   ],
   "source": [
    "# Git pull\n",
    "!git pull"
   ]
  },
  {
   "cell_type": "code",
   "execution_count": 2,
   "metadata": {},
   "outputs": [
    {
     "name": "stdout",
     "output_type": "stream",
     "text": [
      "/home/jupyter-shibaji_chakrobart-968f7/Clustering/SuperDARN-Clustering\r\n"
     ]
    }
   ],
   "source": [
    "!pwd"
   ]
  },
  {
   "cell_type": "code",
   "execution_count": 3,
   "metadata": {},
   "outputs": [
    {
     "name": "stdout",
     "output_type": "stream",
     "text": [
      "Collecting package metadata (repodata.json): done\n",
      "Solving environment: failed\n",
      "\n",
      "ResolvePackageNotFound: \n",
      "  - sysroot_linux-64==2.12=h3a0023d_3\n",
      "  - gcc_impl_linux-64==7.5.0=hd420e75_6\n",
      "  - gfortran_impl_linux-64==7.5.0=hdf63c60_6\n",
      "  - ld_impl_linux-64==2.34=h53a641e_2\n",
      "  - binutils_impl_linux-64==2.34=h53a641e_2\n",
      "  - gxx_impl_linux-64==7.5.0=hdf63c60_6\n",
      "  - libgfortran-ng==7.5.0=hdf63c60_6\n",
      "\n"
     ]
    }
   ],
   "source": [
    "!conda env create -f environment.yml"
   ]
  },
  {
   "cell_type": "code",
   "execution_count": 3,
   "metadata": {},
   "outputs": [],
   "source": [
    "# Clear all files\n",
    "!rm -rf .ipynb_checkpoints/\n",
    "!rm -rf sd/__pycache__/\n",
    "!rm -rf sd/.ipynb_checkpoints/\n",
    "!rm -rf sd/skillset/__pycache__/\n",
    "!rm -rf sd/__pycache__/\n",
    "!rm -rf sd/algorithms/extra/__pycache__/"
   ]
  },
  {
   "cell_type": "code",
   "execution_count": null,
   "metadata": {},
   "outputs": [],
   "source": []
  }
 ],
 "metadata": {
  "kernelspec": {
   "display_name": "Python 3",
   "language": "python",
   "name": "python3"
  },
  "language_info": {
   "codemirror_mode": {
    "name": "ipython",
    "version": 3
   },
   "file_extension": ".py",
   "mimetype": "text/x-python",
   "name": "python",
   "nbconvert_exporter": "python",
   "pygments_lexer": "ipython3",
   "version": "3.7.7"
  }
 },
 "nbformat": 4,
 "nbformat_minor": 4
}
