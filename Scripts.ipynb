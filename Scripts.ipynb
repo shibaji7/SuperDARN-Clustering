{
 "cells": [
  {
   "cell_type": "code",
   "execution_count": 3,
   "metadata": {},
   "outputs": [
    {
     "name": "stdout",
     "output_type": "stream",
     "text": [
      "[master 35b0d60] Update\r\n",
      " 1 file changed, 0 insertions(+), 0 deletions(-)\r\n",
      " rename Untitled.ipynb => Scripts.ipynb (100%)\r\n"
     ]
    }
   ],
   "source": [
    "!git config user.email \"shibaji7@vt.edu\"\n",
    "!git config user.name \"Shibaji Chakraborty\""
   ]
  },
  {
   "cell_type": "code",
   "execution_count": 5,
   "metadata": {},
   "outputs": [
    {
     "name": "stdout",
     "output_type": "stream",
     "text": [
      "[master 8d2cf03] Updated files\n",
      " 1 file changed, 30 insertions(+), 17 deletions(-)\n",
      "Enumerating objects: 9, done.\n",
      "Counting objects: 100% (9/9), done.\n",
      "Delta compression using up to 24 threads\n",
      "Compressing objects: 100% (8/8), done.\n",
      "Writing objects: 100% (8/8), 1.62 KiB | 830.00 KiB/s, done.\n",
      "Total 8 (delta 4), reused 0 (delta 0)\n",
      "remote: Resolving deltas: 100% (4/4), completed with 1 local object.\u001b[K\n",
      "To https://github.com/shibaji7/SuperDARN-Clustering.git\n",
      "   89c31a1..8d2cf03  master -> master\n"
     ]
    }
   ],
   "source": [
    "# Push to git \n",
    "!git add .\n",
    "!git commit -m \"Updated files\"\n",
    "!git push"
   ]
  },
  {
   "cell_type": "code",
   "execution_count": 7,
   "metadata": {},
   "outputs": [
    {
     "name": "stdout",
     "output_type": "stream",
     "text": [
      "remote: Enumerating objects: 5, done.\u001b[K\n",
      "remote: Counting objects: 100% (5/5), done.\u001b[K\n",
      "remote: Compressing objects: 100% (1/1), done.\u001b[K\n",
      "remote: Total 3 (delta 2), reused 3 (delta 2), pack-reused 0\u001b[K\n",
      "Unpacking objects: 100% (3/3), 301 bytes | 301.00 KiB/s, done.\n",
      "From https://github.com/shibaji7/SuperDARN-Clustering\n",
      "   8d2cf03..eb68fd7  master     -> origin/master\n",
      "Updating 8d2cf03..eb68fd7\n",
      "Fast-forward\n",
      " .gitignore | 4 \u001b[32m+++\u001b[m\u001b[31m-\u001b[m\n",
      " 1 file changed, 3 insertions(+), 1 deletion(-)\n"
     ]
    }
   ],
   "source": [
    "# Git pull\n",
    "!git pull"
   ]
  },
  {
   "cell_type": "code",
   "execution_count": 10,
   "metadata": {},
   "outputs": [],
   "source": [
    "!rm -rf sd/data/op/*"
   ]
  }
 ],
 "metadata": {
  "kernelspec": {
   "display_name": "Python 3",
   "language": "python",
   "name": "python3"
  },
  "language_info": {
   "codemirror_mode": {
    "name": "ipython",
    "version": 3
   },
   "file_extension": ".py",
   "mimetype": "text/x-python",
   "name": "python",
   "nbconvert_exporter": "python",
   "pygments_lexer": "ipython3",
   "version": "3.7.7"
  }
 },
 "nbformat": 4,
 "nbformat_minor": 4
}
