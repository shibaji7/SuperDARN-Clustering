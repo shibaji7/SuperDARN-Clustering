{
 "cells": [
  {
   "cell_type": "markdown",
   "metadata": {},
   "source": [
    "## This code is used to simulate some experiment using a wrapper module\n",
    "\n",
    "### The steps of simulations are following:\n",
    "- Create folder \"data/op/\"\n",
    "- Import \"sd/\" modules\n",
    "- Initialize radar, datetime of the run (typically run for a day for a radar)\n",
    "- Initialize clustering category, type, and associated parameters\n",
    "- Strat simulation"
   ]
  },
  {
   "cell_type": "code",
   "execution_count": null,
   "metadata": {},
   "outputs": [],
   "source": [
    "import datetime as dt\n",
    "import argparse\n",
    "from dateutil import parser as dparser\n",
    "from optimize import Model, _del_\n",
    "\n",
    "def to_argparse(_dict_):\n",
    "    \"\"\" Take parameters as dictionary and convert to argparse \"\"\"\n",
    "    parser = argparse.ArgumentParser()\n",
    "    parser.add_argument(\"-c\", \"--category\", default=_dict_[\"category\"], help=\"Algorithm category\")\n",
    "    parser.add_argument(\"-m\", \"--model\", default=_dict_[\"model\"], help=\"Algorithm name\")\n",
    "    parser.add_argument(\"-nc\", \"--n_clusters\", type=int, default=_dict_[\"n_clusters\"], help=\"Number of clusters (default 8)\")\n",
    "    parser.add_argument(\"-r\", \"--rad\", default=\"sas\", help=\"SuperDARN radar code (default sas)\")\n",
    "    parser.add_argument(\"-s\", \"--start\", default=_dict_[\"start\"], help=\"Start date (default 2018-04-05)\",\n",
    "            type=dparser.isoparse)\n",
    "    parser.add_argument(\"-e\", \"--end\", default=_dict_[\"end\"], help=\"End date (default 2018-04-05T01)\",\n",
    "            type=dparser.isoparse)\n",
    "    parser.add_argument(\"-cl\", \"--clear\", default=_dict_[\"clear\"], help=\"Clear pervious stored files (default False)\")\n",
    "    parser.add_argument(\"-sk\", \"--skills\", default=_dict_[\"skills\"], help=\"Run skill estimate (default False)\")\n",
    "    parser.add_argument(\"-pl\", \"--plot\", default=_dict_[\"plot\"], help=\"Plot estimations (default True)\")\n",
    "    parser.add_argument(\"-v\", \"--verbose\", default=_dict_[\"verbose\"], help=\"Increase output verbosity (default False)\")\n",
    "    parser.add_argument(\"-sv\", \"--save\", default=_dict_[\"save\"], help=\"Increase output verbosity (default True)\")\n",
    "    args = parser.parse_args()\n",
    "    if args.verbose:\n",
    "        print(\"\\n Parameter list for simulation \")\n",
    "        for k in vars(args).keys():\n",
    "            print(\"     \", k, \"->\", vars(args)[k])\n",
    "    return args\n",
    "\n",
    "def run_model(args):\n",
    "    \"\"\" Run the model with all keywords\"\"\"\n",
    "    Model(args.rad, args.start, args.end, args)\n",
    "    _del_()\n",
    "    return\n",
    "\n",
    "# Setup default dictionary\n",
    "_dic_ = { \n",
    "    \"category\": \"density\",\n",
    "    \"model\": \"dbscan\",\n",
    "    \"n_clusters\": \"4\",\n",
    "    \"rad\": \"sas\",\n",
    "    \"start\": dt.datetime(2018, 4, 5),\n",
    "    \"end\": dt.datetime(2018, 4, 6),\n",
    "    \"clear\": True,\n",
    "    \"skills\": True,\n",
    "    \"plot\": True,\n",
    "    \"verbose\": True,\n",
    "    \"save\": True,\n",
    "}"
   ]
  },
  {
   "cell_type": "code",
   "execution_count": null,
   "metadata": {},
   "outputs": [],
   "source": [
    "# Change parameters defined in dictionary (_dic_)\n",
    "\n",
    "# Run the model with defined parameters\n",
    "run_model(to_argparse(_dic_))"
   ]
  }
 ],
 "metadata": {
  "kernelspec": {
   "display_name": "Python 3",
   "language": "python",
   "name": "python3"
  },
  "language_info": {
   "codemirror_mode": {
    "name": "ipython",
    "version": 3
   },
   "file_extension": ".py",
   "mimetype": "text/x-python",
   "name": "python",
   "nbconvert_exporter": "python",
   "pygments_lexer": "ipython3",
   "version": "3.7.7"
  }
 },
 "nbformat": 4,
 "nbformat_minor": 4
}
