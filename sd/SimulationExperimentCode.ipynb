{
 "cells": [
  {
   "cell_type": "markdown",
   "metadata": {},
   "source": [
    "## This code is used to simulate some experiment using a wrapper module\n",
    "\n",
    "### The steps of simulations are following:\n",
    "- Create folder \"data/op/\"\n",
    "- Import \"sd/\" modules\n",
    "- Initialize radar, datetime of the run (typically run for a day for a radar)\n",
    "- Initialize clustering category, type, and associated parameters\n",
    "- Strat simulation"
   ]
  },
  {
   "cell_type": "code",
   "execution_count": 1,
   "metadata": {},
   "outputs": [
    {
     "ename": "ModuleNotFoundError",
     "evalue": "No module named 'pysolar'",
     "output_type": "error",
     "traceback": [
      "\u001b[0;31m---------------------------------------------------------------------------\u001b[0m",
      "\u001b[0;31mModuleNotFoundError\u001b[0m                       Traceback (most recent call last)",
      "\u001b[0;32m<ipython-input-1-f07c2b42f85e>\u001b[0m in \u001b[0;36m<module>\u001b[0;34m\u001b[0m\n\u001b[1;32m      2\u001b[0m \u001b[0;32mimport\u001b[0m \u001b[0margparse\u001b[0m\u001b[0;34m\u001b[0m\u001b[0;34m\u001b[0m\u001b[0m\n\u001b[1;32m      3\u001b[0m \u001b[0;32mfrom\u001b[0m \u001b[0mdateutil\u001b[0m \u001b[0;32mimport\u001b[0m \u001b[0mparser\u001b[0m \u001b[0;32mas\u001b[0m \u001b[0mdparser\u001b[0m\u001b[0;34m\u001b[0m\u001b[0;34m\u001b[0m\u001b[0m\n\u001b[0;32m----> 4\u001b[0;31m \u001b[0;32mfrom\u001b[0m \u001b[0moptimize\u001b[0m \u001b[0;32mimport\u001b[0m \u001b[0mModel\u001b[0m\u001b[0;34m,\u001b[0m \u001b[0m_del_\u001b[0m\u001b[0;34m\u001b[0m\u001b[0;34m\u001b[0m\u001b[0m\n\u001b[0m\u001b[1;32m      5\u001b[0m \u001b[0;34m\u001b[0m\u001b[0m\n\u001b[1;32m      6\u001b[0m \u001b[0;32mdef\u001b[0m \u001b[0mto_argparse\u001b[0m\u001b[0;34m(\u001b[0m\u001b[0m_dict_\u001b[0m\u001b[0;34m)\u001b[0m\u001b[0;34m:\u001b[0m\u001b[0;34m\u001b[0m\u001b[0;34m\u001b[0m\u001b[0m\n",
      "\u001b[0;32m~/Clustering/SuperDARN-Clustering/sd/optimize.py\u001b[0m in \u001b[0;36m<module>\u001b[0;34m\u001b[0m\n\u001b[1;32m     23\u001b[0m \u001b[0;34m\u001b[0m\u001b[0m\n\u001b[1;32m     24\u001b[0m \u001b[0;32mfrom\u001b[0m \u001b[0mget_sd_data\u001b[0m \u001b[0;32mimport\u001b[0m \u001b[0mFetchData\u001b[0m\u001b[0;34m\u001b[0m\u001b[0;34m\u001b[0m\u001b[0m\n\u001b[0;32m---> 25\u001b[0;31m \u001b[0;32mimport\u001b[0m \u001b[0mutils\u001b[0m\u001b[0;34m\u001b[0m\u001b[0;34m\u001b[0m\u001b[0m\n\u001b[0m\u001b[1;32m     26\u001b[0m \u001b[0;32mfrom\u001b[0m \u001b[0mskills\u001b[0m \u001b[0;32mimport\u001b[0m \u001b[0mSkills\u001b[0m\u001b[0;34m\u001b[0m\u001b[0;34m\u001b[0m\u001b[0m\n\u001b[1;32m     27\u001b[0m \u001b[0;32mfrom\u001b[0m \u001b[0mplot_utils\u001b[0m \u001b[0;32mimport\u001b[0m \u001b[0mRangeTimePlot\u001b[0m\u001b[0;34m,\u001b[0m \u001b[0mgetD2N\u001b[0m\u001b[0;34m\u001b[0m\u001b[0;34m\u001b[0m\u001b[0m\n",
      "\u001b[0;32m~/Clustering/SuperDARN-Clustering/sd/utils.py\u001b[0m in \u001b[0;36m<module>\u001b[0;34m\u001b[0m\n\u001b[1;32m     17\u001b[0m \u001b[0;32mfrom\u001b[0m \u001b[0mscipy\u001b[0m \u001b[0;32mimport\u001b[0m \u001b[0mstats\u001b[0m\u001b[0;34m\u001b[0m\u001b[0;34m\u001b[0m\u001b[0m\n\u001b[1;32m     18\u001b[0m \u001b[0;32mfrom\u001b[0m \u001b[0mscipy\u001b[0m\u001b[0;34m.\u001b[0m\u001b[0mstats\u001b[0m \u001b[0;32mimport\u001b[0m \u001b[0mbeta\u001b[0m\u001b[0;34m\u001b[0m\u001b[0;34m\u001b[0m\u001b[0m\n\u001b[0;32m---> 19\u001b[0;31m \u001b[0;32mfrom\u001b[0m \u001b[0mpysolar\u001b[0m\u001b[0;34m.\u001b[0m\u001b[0msolar\u001b[0m \u001b[0;32mimport\u001b[0m \u001b[0mget_altitude\u001b[0m\u001b[0;34m\u001b[0m\u001b[0;34m\u001b[0m\u001b[0m\n\u001b[0m\u001b[1;32m     20\u001b[0m \u001b[0;32mfrom\u001b[0m \u001b[0mnetCDF4\u001b[0m \u001b[0;32mimport\u001b[0m \u001b[0mDataset\u001b[0m\u001b[0;34m\u001b[0m\u001b[0;34m\u001b[0m\u001b[0m\n\u001b[1;32m     21\u001b[0m \u001b[0;32mfrom\u001b[0m \u001b[0msklearn\u001b[0m\u001b[0;34m.\u001b[0m\u001b[0mpreprocessing\u001b[0m \u001b[0;32mimport\u001b[0m \u001b[0mMinMaxScaler\u001b[0m\u001b[0;34m\u001b[0m\u001b[0;34m\u001b[0m\u001b[0m\n",
      "\u001b[0;31mModuleNotFoundError\u001b[0m: No module named 'pysolar'"
     ]
    }
   ],
   "source": [
    "import datetime as dt\n",
    "import argparse\n",
    "from dateutil import parser as dparser\n",
    "from optimize import Model, _del_\n",
    "\n",
    "def to_argparse(_dict_):\n",
    "    \"\"\" Take parameters as dictionary and convert to argparse \"\"\"\n",
    "    parser = argparse.ArgumentParser()\n",
    "    parser.add_argument(\"-c\", \"--category\", default=_dict_[\"category\"], help=\"Algorithm category\")\n",
    "    parser.add_argument(\"-m\", \"--model\", default=_dict_[\"model\"], help=\"Algorithm name\")\n",
    "    parser.add_argument(\"-nc\", \"--n_clusters\", type=int, default=_dict_[\"n_clusters\"], help=\"Number of clusters (default 8)\")\n",
    "    parser.add_argument(\"-r\", \"--rad\", default=\"sas\", help=\"SuperDARN radar code (default sas)\")\n",
    "    parser.add_argument(\"-s\", \"--start\", default=_dict_[\"start\"], help=\"Start date (default 2018-04-05)\",\n",
    "            type=dparser.isoparse)\n",
    "    parser.add_argument(\"-e\", \"--end\", default=_dict_[\"end\"], help=\"End date (default 2018-04-05T01)\",\n",
    "            type=dparser.isoparse)\n",
    "    parser.add_argument(\"-cl\", \"--clear\", default=_dict_[\"clear\"], help=\"Clear pervious stored files (default False)\")\n",
    "    parser.add_argument(\"-sk\", \"--skills\", default=_dict_[\"skills\"], help=\"Run skill estimate (default False)\")\n",
    "    parser.add_argument(\"-pl\", \"--plot\", default=_dict_[\"plot\"], help=\"Plot estimations (default True)\")\n",
    "    parser.add_argument(\"-v\", \"--verbose\", default=_dict_[\"verbose\"], help=\"Increase output verbosity (default False)\")\n",
    "    parser.add_argument(\"-sv\", \"--save\", default=_dict_[\"save\"], help=\"Increase output verbosity (default True)\")\n",
    "    args = parser.parse_args()\n",
    "    if args.verbose:\n",
    "        print(\"\\n Parameter list for simulation \")\n",
    "        for k in vars(args).keys():\n",
    "            print(\"     \", k, \"->\", vars(args)[k])\n",
    "    return args\n",
    "\n",
    "def run_model(args):\n",
    "    \"\"\" Run the model with all keywords\"\"\"\n",
    "    Model(args.rad, args.start, args.end, args)\n",
    "    _del_()\n",
    "    return\n",
    "\n",
    "# Setup default dictionary\n",
    "_dic_ = { \n",
    "    \"category\": \"density\",\n",
    "    \"model\": \"dbscan\",\n",
    "    \"n_clusters\": \"4\",\n",
    "    \"rad\": \"sas\",\n",
    "    \"start\": dt.datetime(2018, 4, 5),\n",
    "    \"end\": dt.datetime(2018, 4, 6),\n",
    "    \"clear\": True,\n",
    "    \"skills\": True,\n",
    "    \"plot\": True,\n",
    "    \"verbose\": True,\n",
    "    \"save\": True,\n",
    "}"
   ]
  },
  {
   "cell_type": "code",
   "execution_count": null,
   "metadata": {},
   "outputs": [],
   "source": [
    "# Change parameters defined in dictionary (_dic_)\n",
    "\n",
    "# Run the model with defined parameters\n",
    "run_model(to_argparse(_dic_))"
   ]
  },
  {
   "cell_type": "code",
   "execution_count": 5,
   "metadata": {},
   "outputs": [
    {
     "ename": "ModuleNotFoundError",
     "evalue": "No module named 'kmodes'",
     "output_type": "error",
     "traceback": [
      "\u001b[0;31m---------------------------------------------------------------------------\u001b[0m",
      "\u001b[0;31mModuleNotFoundError\u001b[0m                       Traceback (most recent call last)",
      "\u001b[0;32m<ipython-input-5-f3942eabbb6c>\u001b[0m in \u001b[0;36m<module>\u001b[0;34m\u001b[0m\n\u001b[1;32m      1\u001b[0m \u001b[0;32mimport\u001b[0m \u001b[0msys\u001b[0m\u001b[0;34m\u001b[0m\u001b[0;34m\u001b[0m\u001b[0m\n\u001b[1;32m      2\u001b[0m \u001b[0msys\u001b[0m\u001b[0;34m.\u001b[0m\u001b[0mpath\u001b[0m\u001b[0;34m.\u001b[0m\u001b[0mappend\u001b[0m\u001b[0;34m(\u001b[0m\u001b[0;34m\"algorithm/\"\u001b[0m\u001b[0;34m)\u001b[0m\u001b[0;34m\u001b[0m\u001b[0;34m\u001b[0m\u001b[0m\n\u001b[0;32m----> 3\u001b[0;31m \u001b[0;32mfrom\u001b[0m \u001b[0mpartitional\u001b[0m \u001b[0;32mimport\u001b[0m \u001b[0mKMedoids\u001b[0m\u001b[0;34m\u001b[0m\u001b[0;34m\u001b[0m\u001b[0m\n\u001b[0m",
      "\u001b[0;32m~/Clustering/SuperDARN-Clustering/sd/algorithms/partitional.py\u001b[0m in \u001b[0;36m<module>\u001b[0;34m\u001b[0m\n\u001b[1;32m     33\u001b[0m \u001b[0;32mfrom\u001b[0m \u001b[0msklearn\u001b[0m\u001b[0;34m.\u001b[0m\u001b[0mcluster\u001b[0m \u001b[0;32mimport\u001b[0m \u001b[0mKMeans\u001b[0m\u001b[0;34m\u001b[0m\u001b[0;34m\u001b[0m\u001b[0m\n\u001b[1;32m     34\u001b[0m \u001b[0;32mfrom\u001b[0m \u001b[0msklearn\u001b[0m\u001b[0;34m.\u001b[0m\u001b[0mcluster\u001b[0m \u001b[0;32mimport\u001b[0m \u001b[0mMeanShift\u001b[0m\u001b[0;34m\u001b[0m\u001b[0;34m\u001b[0m\u001b[0m\n\u001b[0;32m---> 35\u001b[0;31m \u001b[0;32mfrom\u001b[0m \u001b[0mkmodes\u001b[0m\u001b[0;34m.\u001b[0m\u001b[0mkmodes\u001b[0m \u001b[0;32mimport\u001b[0m \u001b[0mKModes\u001b[0m\u001b[0;34m\u001b[0m\u001b[0;34m\u001b[0m\u001b[0m\n\u001b[0m\u001b[1;32m     36\u001b[0m \u001b[0;32mfrom\u001b[0m \u001b[0mkmedians\u001b[0m \u001b[0;32mimport\u001b[0m \u001b[0mKMedians\u001b[0m\u001b[0;34m\u001b[0m\u001b[0;34m\u001b[0m\u001b[0m\n\u001b[1;32m     37\u001b[0m \u001b[0;32mfrom\u001b[0m \u001b[0mkmedoids\u001b[0m \u001b[0;32mimport\u001b[0m \u001b[0mKMedoids\u001b[0m\u001b[0;34m\u001b[0m\u001b[0;34m\u001b[0m\u001b[0m\n",
      "\u001b[0;31mModuleNotFoundError\u001b[0m: No module named 'kmodes'"
     ]
    }
   ],
   "source": [
    "import sys\n",
    "sys.path.append(\"algorithm/\")\n",
    "from partitional import KMedoids "
   ]
  }
 ],
 "metadata": {
  "kernelspec": {
   "display_name": "Python 3",
   "language": "python",
   "name": "python3"
  },
  "language_info": {
   "codemirror_mode": {
    "name": "ipython",
    "version": 3
   },
   "file_extension": ".py",
   "mimetype": "text/x-python",
   "name": "python",
   "nbconvert_exporter": "python",
   "pygments_lexer": "ipython3",
   "version": "3.7.7"
  }
 },
 "nbformat": 4,
 "nbformat_minor": 4
}
